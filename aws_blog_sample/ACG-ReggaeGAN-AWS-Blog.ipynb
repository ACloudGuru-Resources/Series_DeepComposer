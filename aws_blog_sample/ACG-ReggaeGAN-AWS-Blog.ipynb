{
 "cells": [
  {
   "cell_type": "markdown",
   "metadata": {},
   "source": [
    "# Bring your own data to create a music genre model for AWS DeepComposer"
   ]
  },
  {
   "cell_type": "markdown",
   "metadata": {},
   "source": [
    "---\n",
    "\n",
    "This notebook is for the <b>Bring your own data to create a music genre model for AWS DeepComposer</b> blog and is associated with the <b> AWS DeepComposer: Train it Again Maestro </b> web series on the <b>A Cloud Guru</b> platform.\n",
    "     \n",
    "This covers preparing your data to train a custom music genre model for AWS DeepComposer.\n",
    "  \n",
    "---"
   ]
  },
  {
   "cell_type": "code",
   "execution_count": null,
   "metadata": {},
   "outputs": [],
   "source": [
    "# Create the environment\n",
    "!conda update --all --y \n",
    "!pip install numpy==1.16.4\n",
    "!pip install pretty_midi\n",
    "!pip install pypianoroll"
   ]
  },
  {
   "cell_type": "code",
   "execution_count": null,
   "metadata": {},
   "outputs": [],
   "source": [
    "# IMPORTS\n",
    "import os \n",
    "import numpy as np\n",
    "from numpy import save\n",
    "import pypianoroll\n",
    "from pypianoroll import Multitrack, Track\n",
    "\n",
    "from utils import display_utils\n",
    "\n",
    "import matplotlib.pyplot as plt\n",
    "\n",
    "%matplotlib inline"
   ]
  },
  {
   "cell_type": "code",
   "execution_count": null,
   "metadata": {},
   "outputs": [],
   "source": [
    "root_dir = './2Experiments'\n",
    "\n",
    "# Directory to save checkpoints\n",
    "model_dir = os.path.join(root_dir,'2Reggae')    # JSP: 229, Bach: 19199\n",
    "\n",
    "# Directory to save pianorolls during training\n",
    "train_dir = os.path.join(model_dir, 'train')\n",
    "\n",
    "# Location of the original MIDI files used for training; place your MIDI files here \n",
    "reggae_midi_location = './reggae_midi/'\n",
    "\n",
    "# Directory to save eval data\n",
    "dataset_eval_dir = './dataset/'"
   ]
  },
  {
   "cell_type": "markdown",
   "metadata": {},
   "source": [
    "# Prepare Training Data (MIDI files ----->  .npy)"
   ]
  },
  {
   "cell_type": "markdown",
   "metadata": {},
   "source": [
    "---\n",
    "\n",
    "This section of code demonstrates the process of converting MIDI files to the needed format for training, which is a .npy file.\n",
    "\n",
    "---"
   ]
  },
  {
   "cell_type": "markdown",
   "metadata": {},
   "source": [
    "<img src=\"images/training-image.png\" alt=\"multitrack object\" width=\"600\">"
   ]
  },
  {
   "cell_type": "code",
   "execution_count": null,
   "metadata": {},
   "outputs": [],
   "source": [
    "#helper function that stores the reshaped arrays, per instrument\n",
    "\n",
    "def store_track(track, collection):\n",
    "    \"\"\"\n",
    "    Pull out the 4 selected instrument types based on program number \n",
    "    The program number represents the unique identifier for the instrument (ie. track.program)\n",
    "    https://en.wikipedia.org/wiki/General_MIDI\n",
    "    \"\"\"\n",
    "    \n",
    "    instrument1_program_numbers = [1,2,3,4,5,6,7,8] #Piano\n",
    "    instrument2_program_numbers = [17,18,19,20,21,22,23,24] #Organ\n",
    "    instrument3_program_numbers = [33,34,35,36,37,38,39,40] #Bass\n",
    "    instrument4_program_numbers = [25,26,27,28,29,30,31,32] #Guitar\n",
    "    \n",
    "    if isinstance (collection, dict): \n",
    "        if track.program in instrument1_program_numbers: \n",
    "            collection['Piano'].append(track)\n",
    "        elif track.program in instrument2_program_numbers:\n",
    "            collection['Organ'].append(track)\n",
    "        elif track.program in instrument3_program_numbers:\n",
    "            collection['Bass'].append(track)\n",
    "        elif track.program in instrument4_program_numbers:\n",
    "            collection['Guitar'].append(track)\n",
    "        else:\n",
    "            print(\"Skipping this instrument------------------->\", track.name)\n",
    "    else: #collection will hold chosen tracks\n",
    "        if track.program in instrument1_program_numbers: \n",
    "            collection.append(track)\n",
    "        elif track.program in instrument2_program_numbers:\n",
    "            collection.append(track)\n",
    "        elif track.program in instrument3_program_numbers:\n",
    "            collection.append(track)\n",
    "        elif track.program in instrument4_program_numbers:\n",
    "            collection.append(track)\n",
    "        else:\n",
    "            print(\"Skipping this instrument------------------->\", track.name)\n",
    "    \n",
    "    return collection"
   ]
  },
  {
   "cell_type": "code",
   "execution_count": null,
   "metadata": {},
   "outputs": [],
   "source": [
    "#helper function that returns the pianorolls merged to 4 tracks for 4 chosen instruments\n",
    "\n",
    "def get_merged(music_tracks, filename):\n",
    "    \n",
    "    chosen_tracks = [] \n",
    "    \n",
    "    #choose the tracks from the Multitrack object\n",
    "    for index, track in enumerate(music_tracks.tracks): \n",
    "        chosen_tracks = store_track(track, chosen_tracks)\n",
    "    \n",
    "    #dictionary to hold reshaped pianorolls for 4 chosen instruments  \n",
    "    reshaped_piano_roll_dict = {'Piano': [], 'Organ': [], 'Bass': [], 'Guitar': []}  \n",
    "    \n",
    "    #loop thru chosen tracks\n",
    "    for index, track in enumerate(chosen_tracks): \n",
    "        fig, ax = track.plot()\n",
    "        plt.show()\n",
    "        \n",
    "        try:\n",
    "            #reshape pianoroll to 2 bar (i.e. 32 time step) chunks  \n",
    "            track.pianoroll = track.pianoroll.reshape( -1, 32, 128)\n",
    "            \n",
    "            #store reshaped pianoroll per instrument\n",
    "            reshaped_piano_roll_dict = store_track(track, reshaped_piano_roll_dict)     \n",
    "        except Exception as e: \n",
    "            print(\"ERROR!!!!!----> Skipping track # \", index, \" with error \", e)\n",
    "        \n",
    "    #will hold all merged instrument tracks \n",
    "    merge_piano_roll_list = []\n",
    "    \n",
    "    for instrument in reshaped_piano_roll_dict: \n",
    "        try:\n",
    "            merged_pianorolls = np.empty(shape=(0,32,128))\n",
    "\n",
    "            #concatenate/stack all tracks for a single instrument\n",
    "            if len(reshaped_piano_roll_dict[instrument]) > 0:\n",
    "                if reshaped_piano_roll_dict[instrument]:     \n",
    "                    merged_pianorolls = np.stack([track.pianoroll for track in reshaped_piano_roll_dict[instrument]], -1)\n",
    "                    \n",
    "                merged_pianorolls = merged_pianorolls[:, :, :, 0] \n",
    "                merged_piano_rolls = np.any(merged_pianorolls, axis=0)\n",
    "                merge_piano_roll_list.append(merged_piano_rolls)\n",
    "        except Exception as e: \n",
    "            print(\"ERROR!!!!!----> Cannot concatenate/merge track for instrument\", instrument, \" with error \", e)\n",
    "            continue;\n",
    "        \n",
    "    merge_piano_roll_list = np.stack([track for track in merge_piano_roll_list], -1)\n",
    "    return merge_piano_roll_list.reshape(-1,32,128,4)"
   ]
  },
  {
   "cell_type": "markdown",
   "metadata": {},
   "source": [
    "<img src=\"images/multi_track_object.png\" alt=\"multitrack object\" width=\"600\">"
   ]
  },
  {
   "cell_type": "code",
   "execution_count": null,
   "metadata": {},
   "outputs": [],
   "source": [
    "#holds final reshaped tracks that will be saved to training .npy file\n",
    "track_list = np.empty(shape=(0,32,128,4))\n",
    "\n",
    "#init with beat resolution of 4 \n",
    "music_tracks = pypianoroll.Multitrack(beat_resolution=4) \n",
    "\n",
    "#loop through all the .mid files\n",
    "for filename in os.listdir(reggae_midi_location):\n",
    "    print(\"Starting to process filename---->\", reggae_midi_location + filename)\n",
    "    \n",
    "    if filename.endswith(\".mid\"):\n",
    "        try:\n",
    "            #Load MIDI file using parse_midi\n",
    "            #returns Multi-Track object containing Track objects\n",
    "            music_tracks.parse_midi(reggae_midi_location + filename) \n",
    "            \n",
    "            #add padding to avoid reshape errors\n",
    "            #pad the pianorolls with zeros making the length a multiple of 32\n",
    "            music_tracks.pad_to_multiple(32)\n",
    "            music_tracks.pad_to_same()\n",
    "            \n",
    "            #merge pianoroll objects by instrument \n",
    "            merged_tracks_to_add_to_training_file = get_merged(music_tracks, filename)\n",
    "    \n",
    "            #concatenate merged pianoroll objects to final training data track list\n",
    "            track_list = np.concatenate((merged_tracks_to_add_to_training_file, track_list))\n",
    "            \n",
    "            print(\"Successfully processed filename---->\", reggae_midi_location + filename)\n",
    "        except Exception as e:\n",
    "            print(\"**********ERROR**************It's possible that not all 4 instruments exist in this track; at least one is 0\")\n",
    "            print(\"Skipping file---->\", filename, e)\n",
    "            print(e)\n",
    "            \n",
    "# binarize data\n",
    "track_list[track_list == 0] = -1\n",
    "track_list[track_list >= 0] = 1"
   ]
  },
  {
   "cell_type": "code",
   "execution_count": null,
   "metadata": {},
   "outputs": [],
   "source": [
    "#split the data into training and evaluation datasets\n",
    "training_data, eval_data = np.split(track_list, 2)\n",
    "\n",
    "#save training data\n",
    "save(train_dir + '/reggae-train.npy', np.array(training_data)) \n",
    "\n",
    "#save evaluation data \n",
    "save(dataset_eval_dir + '/eval.npy', np.array(eval_data)) "
   ]
  },
  {
   "cell_type": "markdown",
   "metadata": {},
   "source": [
    "# Review Training Data"
   ]
  },
  {
   "cell_type": "code",
   "execution_count": null,
   "metadata": {
    "scrolled": true
   },
   "outputs": [],
   "source": [
    "#double check the shape on training data, should be (x, 32, 128, 4), where x represents the amount of records\n",
    "training_data = np.load(train_dir + '/reggae-train.npy')\n",
    "print(\"Testing the training shape: \", training_data.shape)\n",
    "\n",
    "#view sample of data that will be feed to model, four graphs == four tracks\n",
    "display_utils.show_pianoroll(training_data)\n"
   ]
  }
 ],
 "metadata": {
  "kernelspec": {
   "display_name": "conda_python3",
   "language": "python",
   "name": "conda_python3"
  },
  "language_info": {
   "codemirror_mode": {
    "name": "ipython",
    "version": 3
   },
   "file_extension": ".py",
   "mimetype": "text/x-python",
   "name": "python",
   "nbconvert_exporter": "python",
   "pygments_lexer": "ipython3",
   "version": "3.6.10"
  }
 },
 "nbformat": 4,
 "nbformat_minor": 4
}
